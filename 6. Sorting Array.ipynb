{
 "cells": [
  {
   "cell_type": "code",
   "execution_count": 1,
   "id": "eeede294",
   "metadata": {},
   "outputs": [],
   "source": [
    "import numpy as np"
   ]
  },
  {
   "cell_type": "code",
   "execution_count": 8,
   "id": "73e543cf",
   "metadata": {},
   "outputs": [],
   "source": [
    "size = (3,3)\n",
    "arr = np.random.randint(1, 9, size,'i8')"
   ]
  },
  {
   "cell_type": "markdown",
   "id": "02b07294",
   "metadata": {},
   "source": [
    "### sort an array along a specified axis"
   ]
  },
  {
   "cell_type": "code",
   "execution_count": 13,
   "id": "5e028cc3",
   "metadata": {},
   "outputs": [
    {
     "name": "stdout",
     "output_type": "stream",
     "text": [
      "Sort along the row\n",
      "[[1 2 1]\n",
      " [4 2 2]\n",
      " [5 6 6]]\n",
      "Sort along the Columns : \n",
      "[[2 5 6]\n",
      " [2 4 6]\n",
      " [1 1 2]]\n",
      "Sort along rows and return the indices : \n",
      "[[2 0 2]\n",
      " [1 2 1]\n",
      " [0 1 0]]\n",
      "Sort along the column and return indices : \n",
      "[[1 0 2]\n",
      " [2 0 1]\n",
      " [0 2 1]]\n"
     ]
    }
   ],
   "source": [
    "# sort along the row and return a copy\n",
    "print('Sort along the row')\n",
    "print(np.sort(arr, axis=0))   \n",
    "\n",
    "# sort along the column and return a copy\n",
    "print('Sort along the Columns : ')\n",
    "print(np.sort(arr, axis=1)) \n",
    "\n",
    "# sort along the row and return the indices of the sorted elements\n",
    "print('Sort along rows and return the indices : ')\n",
    "print(np.argsort(arr, axis=0))  \n",
    "\n",
    "# sort along the column and return the indices of the sorted elements\n",
    "print('Sort along the column and return indices : ')\n",
    "print(np.argsort(arr, axis=1))  "
   ]
  },
  {
   "cell_type": "code",
   "execution_count": 14,
   "id": "8d9f9adc",
   "metadata": {},
   "outputs": [
    {
     "name": "stdout",
     "output_type": "stream",
     "text": [
      "[[1 2 1]\n",
      " [4 2 2]\n",
      " [5 6 6]]\n"
     ]
    }
   ],
   "source": [
    "# sort along the row in place\n",
    "arr.sort(axis=0)\n",
    "print(arr)"
   ]
  },
  {
   "cell_type": "code",
   "execution_count": 15,
   "id": "3fab2502",
   "metadata": {},
   "outputs": [
    {
     "name": "stdout",
     "output_type": "stream",
     "text": [
      "[[1 1 2]\n",
      " [2 2 4]\n",
      " [5 6 6]]\n"
     ]
    }
   ],
   "source": [
    "# sort along the column and return a copy\n",
    "print(np.sort(arr, axis=1))    "
   ]
  },
  {
   "cell_type": "code",
   "execution_count": 16,
   "id": "26a6e5d8",
   "metadata": {},
   "outputs": [
    {
     "name": "stdout",
     "output_type": "stream",
     "text": [
      "[[1 1 2]\n",
      " [2 2 4]\n",
      " [5 6 6]]\n"
     ]
    }
   ],
   "source": [
    "# sort along the column in place\n",
    "arr.sort(axis=1)    \n",
    "print(arr)"
   ]
  },
  {
   "cell_type": "markdown",
   "id": "0a6a9066",
   "metadata": {},
   "source": [
    "### compute the indices that would sort an array along a specified axis"
   ]
  },
  {
   "cell_type": "code",
   "execution_count": null,
   "id": "41fb0750",
   "metadata": {},
   "outputs": [],
   "source": [
    "arr = np.random.rand(5,5)"
   ]
  },
  {
   "cell_type": "code",
   "execution_count": null,
   "id": "d990e613",
   "metadata": {},
   "outputs": [
    {
     "name": "stdout",
     "output_type": "stream",
     "text": [
      "[[1 1 2 2 0]\n",
      " [2 2 1 3 2]\n",
      " [0 4 0 1 4]\n",
      " [4 3 3 0 3]\n",
      " [3 0 4 4 1]]\n"
     ]
    }
   ],
   "source": [
    "# along the row\n",
    "print(np.argsort(arr, axis=0))"
   ]
  },
  {
   "cell_type": "code",
   "execution_count": null,
   "id": "00fe6011",
   "metadata": {},
   "outputs": [
    {
     "name": "stdout",
     "output_type": "stream",
     "text": [
      "[[4 3 2 0 1]\n",
      " [0 3 1 2 4]\n",
      " [3 2 4 0 1]\n",
      " [3 4 0 1 2]\n",
      " [4 0 1 2 3]]\n"
     ]
    }
   ],
   "source": [
    "# along the column\n",
    "print(np.argsort(arr, axis=1))"
   ]
  },
  {
   "cell_type": "code",
   "execution_count": null,
   "id": "cf735fed",
   "metadata": {},
   "outputs": [
    {
     "name": "stdout",
     "output_type": "stream",
     "text": [
      "[13 12  5 18  4  8  6  7 14  3 10 24  2 11  0 19 20 21  9 15 16 17 22  1\n",
      " 23]\n"
     ]
    }
   ],
   "source": [
    "# if axis=None, return the indices of a flattened array\n",
    "print(np.argsort(arr, axis=None))"
   ]
  }
 ],
 "metadata": {
  "kernelspec": {
   "display_name": "Python 3",
   "language": "python",
   "name": "python3"
  },
  "language_info": {
   "codemirror_mode": {
    "name": "ipython",
    "version": 3
   },
   "file_extension": ".py",
   "mimetype": "text/x-python",
   "name": "python",
   "nbconvert_exporter": "python",
   "pygments_lexer": "ipython3",
   "version": "3.13.5"
  }
 },
 "nbformat": 4,
 "nbformat_minor": 5
}
