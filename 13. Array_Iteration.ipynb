{
 "cells": [
  {
   "cell_type": "code",
   "execution_count": 1,
   "id": "d3c9f81a",
   "metadata": {},
   "outputs": [
    {
     "name": "stdout",
     "output_type": "stream",
     "text": [
      "1\n",
      "2\n",
      "3\n"
     ]
    }
   ],
   "source": [
    "import numpy as np\n",
    "\n",
    "ii =np.array([1,2,3])\n",
    "\n",
    "for item in ii:\n",
    "    print(item)"
   ]
  },
  {
   "cell_type": "code",
   "execution_count": 2,
   "id": "31f890fd",
   "metadata": {},
   "outputs": [
    {
     "name": "stdout",
     "output_type": "stream",
     "text": [
      "[1 2 3 4]\n",
      "[5 6 7 8]\n",
      "1\n",
      "2\n",
      "3\n",
      "4\n",
      "5\n",
      "6\n",
      "7\n",
      "8\n"
     ]
    }
   ],
   "source": [
    "ii2D = np.array([[1,2,3,4],[5,6,7,8]])\n",
    "\n",
    "# Simple iteration on 2D array\n",
    "for item in ii2D:\n",
    "    print(item)\n",
    "\n",
    "# Iterating over each element in 2D array using nested for loop \n",
    "for item in ii2D:\n",
    "    for item_1 in item:\n",
    "        print(item_1)"
   ]
  },
  {
   "cell_type": "code",
   "execution_count": null,
   "id": "d1fc3eb0",
   "metadata": {},
   "outputs": [
    {
     "name": "stdout",
     "output_type": "stream",
     "text": [
      "1\n",
      "2\n",
      "3\n",
      "4\n",
      "5\n",
      "6\n",
      "7\n",
      "8\n"
     ]
    }
   ],
   "source": [
    "ii2D = np.array([[1,2,3,4],[5,6,7,8]])\n",
    "\n",
    "# Iteration using nditer function --> nditer function flattens array to -1 (in 1D)\n",
    "for item in np.nditer(ii2D):\n",
    "    print(item)"
   ]
  },
  {
   "cell_type": "code",
   "execution_count": null,
   "id": "9882b184",
   "metadata": {},
   "outputs": [],
   "source": []
  }
 ],
 "metadata": {
  "kernelspec": {
   "display_name": "Python 3",
   "language": "python",
   "name": "python3"
  },
  "language_info": {
   "codemirror_mode": {
    "name": "ipython",
    "version": 3
   },
   "file_extension": ".py",
   "mimetype": "text/x-python",
   "name": "python",
   "nbconvert_exporter": "python",
   "pygments_lexer": "ipython3",
   "version": "3.13.5"
  }
 },
 "nbformat": 4,
 "nbformat_minor": 5
}
