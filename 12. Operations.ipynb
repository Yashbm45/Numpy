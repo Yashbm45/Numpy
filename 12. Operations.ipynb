{
 "cells": [
  {
   "cell_type": "markdown",
   "id": "8e9bdb43",
   "metadata": {},
   "source": [
    "🔹 1. Accessing Elements in NumPy Arrays\n",
    "✅ 1D Array\n",
    "✅ 2D Array\n",
    "✅ Slicing"
   ]
  },
  {
   "cell_type": "code",
   "execution_count": 1,
   "id": "b60ac2fe",
   "metadata": {},
   "outputs": [
    {
     "name": "stdout",
     "output_type": "stream",
     "text": [
      "10   30\n",
      "6\n",
      "[20 30]\n",
      "[2 5]\n",
      "[1 2 3]\n",
      "[[5 6]]\n",
      "Single element access: 30\n",
      "Negative indexing: 50\n",
      "Multidimensional array access: 4\n"
     ]
    }
   ],
   "source": [
    "# 1D array\n",
    "import numpy as np\n",
    "arr = np.array([10, 20, 30, 40])\n",
    "print(arr[0], \" \", arr[2])          # Output: 10  30\n",
    "\n",
    "# ✅ 2D Array\n",
    "arr2d = np.array([[1, 2, 3],\n",
    "                  [4, 5, 6]])\n",
    "print(arr2d[1, 2])                  # Output: 6\n",
    "\n",
    "# ✅ Slicing\n",
    "print(arr[1:3])      # [20 30]\n",
    "print(arr2d[:, 1])   # column: [2 5]\n",
    "print(arr2d[0, :])   # row: [1 2 3]\n",
    "print(arr2d[1:2, 1:3])\n",
    "\n",
    "\n",
    "# Create a 1D array\n",
    "arr1d = np.array([10, 20, 30, 40, 50])\n",
    "\n",
    "# Single element access\n",
    "print(\"Single element access:\", arr1d[2])  \n",
    "\n",
    "# Negative indexing\n",
    "print(\"Negative indexing:\", arr1d[-1])  \n",
    "\n",
    "# Create a 2D array\n",
    "arr2d = np.array([[1, 2, 3], [4, 5, 6], [7, 8, 9]])\n",
    "\n",
    "# Multidimensional array access\n",
    "print(\"Multidimensional array access:\", arr2d[1, 0])\n"
   ]
  },
  {
   "cell_type": "markdown",
   "id": "a7c26d73",
   "metadata": {},
   "source": [
    "🔹 2. Modifying Array Elements"
   ]
  },
  {
   "cell_type": "code",
   "execution_count": 3,
   "id": "eee13dea",
   "metadata": {},
   "outputs": [
    {
     "name": "stdout",
     "output_type": "stream",
     "text": [
      "[99 20 30 40]\n",
      "[[  1   2   3]\n",
      " [  4 100   6]]\n"
     ]
    }
   ],
   "source": [
    "arr[0] = 99\n",
    "arr2d[1, 1] = 100\n",
    "print(arr)          # [99, 20, 30, 40]\n",
    "print(arr2d)        # [[1, 2, 3], [4, 100, 6]]"
   ]
  },
  {
   "cell_type": "markdown",
   "id": "64c9aa66",
   "metadata": {},
   "source": [
    "🔹3. Deleting Elements"
   ]
  },
  {
   "cell_type": "code",
   "execution_count": 12,
   "id": "16d85c76",
   "metadata": {},
   "outputs": [
    {
     "name": "stdout",
     "output_type": "stream",
     "text": [
      "[1 2 4 5]\n",
      "[[4 5 6]\n",
      " [7 8 9]]\n",
      "[[1 3]\n",
      " [4 6]\n",
      " [7 9]]\n"
     ]
    }
   ],
   "source": [
    "# ✅ Delete from 1D array\n",
    "arr = np.array([1, 2, 3, 4, 5])\n",
    "arr_new = np.delete(arr, 2)     # Deletes element at index 2\n",
    "print(arr_new)                  # [1 2 4 5]\n",
    "\n",
    "\n",
    "# ✅ Delete row/column from 2D array\n",
    "arr2d = np.array([[1, 2, 3],\n",
    "                  [4, 5, 6],\n",
    "                  [7, 8, 9]])\n",
    "\n",
    "\n",
    "# Delete 1st row\n",
    "print(np.delete(arr2d, 0, axis=0))\n",
    "\n",
    "\n",
    "# Delete 2nd column\n",
    "print(np.delete(arr2d, 1, axis=1))"
   ]
  },
  {
   "cell_type": "markdown",
   "id": "c40c5117",
   "metadata": {},
   "source": [
    "🔹 4. Inserting Elements"
   ]
  },
  {
   "cell_type": "code",
   "execution_count": null,
   "id": "1cb3e610",
   "metadata": {},
   "outputs": [
    {
     "name": "stdout",
     "output_type": "stream",
     "text": [
      "[ 1 10  2  3]\n",
      "[  1   2   3 255]\n"
     ]
    },
    {
     "data": {
      "text/plain": [
       "array([[  1, 100,   2,   3],\n",
       "       [  4, 101,   5,   6],\n",
       "       [  7, 102,   8,   9]])"
      ]
     },
     "execution_count": 20,
     "metadata": {},
     "output_type": "execute_result"
    }
   ],
   "source": [
    "# Insert in 1D\n",
    "a = np.array([1, 2, 3])\n",
    "new_a = np.insert(a, 1, 10)     # Insert 10 at index 1. \n",
    "print(new_a)                    # [1 10 2 3]\n",
    "\n",
    "# Insert Element at last\n",
    "print(np.insert(a,a.size,255))\n",
    "\n",
    "# Insert in 2D\n",
    "np.insert(arr2d, 1, [10, 11, 12], axis=0)       # Insert row\n",
    "np.insert(arr2d, 1, [100, 101, 102], axis=1)    # Insert column"
   ]
  },
  {
   "cell_type": "markdown",
   "id": "fc3d4cca",
   "metadata": {},
   "source": [
    "🔹 5. Appending Elements\n"
   ]
  },
  {
   "cell_type": "code",
   "execution_count": 6,
   "id": "37a30d79",
   "metadata": {},
   "outputs": [
    {
     "name": "stdout",
     "output_type": "stream",
     "text": [
      "[1 2 3 4 5]\n"
     ]
    },
    {
     "data": {
      "text/plain": [
       "array([[ 1,  2,  3],\n",
       "       [ 4,  5,  6],\n",
       "       [10, 11, 12]])"
      ]
     },
     "execution_count": 6,
     "metadata": {},
     "output_type": "execute_result"
    }
   ],
   "source": [
    "import numpy as np\n",
    "a = np.array([1, 2, 3])\n",
    "a = np.append(a, [4, 5])\n",
    "print(a)                    # [1 2 3 4 5]\n",
    "\n",
    "# Append Row/Column in 2D\n",
    "arr2d = [[1,2,3],[4,5,6]]\n",
    "np.append(arr2d, [[10, 11, 12]], axis=0)            # Append row\n",
    "# np.append(arr2d, [[100], [101], [102]], axis=1)     # Append column"
   ]
  },
  {
   "cell_type": "markdown",
   "id": "285674a4",
   "metadata": {},
   "source": [
    "🔹 6. Reshaping Arrays\n"
   ]
  },
  {
   "cell_type": "code",
   "execution_count": 7,
   "id": "1365a687",
   "metadata": {},
   "outputs": [
    {
     "name": "stdout",
     "output_type": "stream",
     "text": [
      "[[1 2 3]\n",
      " [4 5 6]]\n"
     ]
    }
   ],
   "source": [
    "a = np.array([1, 2, 3, 4, 5, 6])\n",
    "reshaped = a.reshape((2, 3))\n",
    "print(reshaped)\n",
    "# [[1 2 3]\n",
    "#  [4 5 6]]"
   ]
  },
  {
   "cell_type": "markdown",
   "id": "2a520205",
   "metadata": {},
   "source": [
    "🔹 7. Copying Arrays"
   ]
  },
  {
   "cell_type": "code",
   "execution_count": 33,
   "id": "6daf4b00",
   "metadata": {},
   "outputs": [
    {
     "name": "stdout",
     "output_type": "stream",
     "text": [
      "[99  2  3]\n",
      "[50  2  3]\n",
      "[99  2  3]\n"
     ]
    }
   ],
   "source": [
    "# ❌ Assignment (Reference)     - Shallow Copy (Same Reference...)\n",
    "a = np.array([1, 2, 3])\n",
    "b = a\n",
    "b[0] = 99\n",
    "print(a)  # [99 2 3]  (changes original)\n",
    "\n",
    "# ✅ Deep Copy - Data is copied not reference. changes made in copy not affect the original data.\n",
    "b = a.copy()\n",
    "b[0] = 50\n",
    "print(b)\n",
    "print(a)  # [99 2 3]  (unchanged)\n"
   ]
  },
  {
   "cell_type": "markdown",
   "id": "c86a51a7",
   "metadata": {},
   "source": [
    "🔹 8. Stacking Arrays"
   ]
  },
  {
   "cell_type": "code",
   "execution_count": 9,
   "id": "36740ea6",
   "metadata": {},
   "outputs": [
    {
     "data": {
      "text/plain": [
       "array([1, 2, 3, 4])"
      ]
     },
     "execution_count": 9,
     "metadata": {},
     "output_type": "execute_result"
    }
   ],
   "source": [
    "# Vertical Stack\n",
    "a = np.array([1, 2])\n",
    "b = np.array([3, 4])\n",
    "np.vstack((a, b))\n",
    "# [[1 2]\n",
    "#  [3 4]]\n",
    "\n",
    "\n",
    "# Horizontal Stack\n",
    "np.hstack((a, b))  # [1 2 3 4]"
   ]
  },
  {
   "cell_type": "markdown",
   "id": "68473b8b",
   "metadata": {},
   "source": [
    "🔹 9. Splitting Arrays"
   ]
  },
  {
   "cell_type": "code",
   "execution_count": 10,
   "id": "57c8e6ff",
   "metadata": {},
   "outputs": [
    {
     "name": "stdout",
     "output_type": "stream",
     "text": [
      "[4 5 6]\n"
     ]
    }
   ],
   "source": [
    "arr = np.array([1, 2, 3, 4, 5, 6])\n",
    "np.split(arr, 3)        #Output [array([1, 2]), array([3, 4]), array([5, 6])]\n",
    "\n",
    "# This will work only if we give exact numbers of variables as we making the split.\n",
    "a, b = np.split(arr,2)\n",
    "print(b)"
   ]
  },
  {
   "cell_type": "markdown",
   "id": "e86ea358",
   "metadata": {},
   "source": [
    "🔹 10. Mathematical Operations\n"
   ]
  },
  {
   "cell_type": "code",
   "execution_count": 11,
   "id": "9e861546",
   "metadata": {},
   "outputs": [
    {
     "name": "stdout",
     "output_type": "stream",
     "text": [
      "[5 7 9]\n",
      "[ 4 10 18]\n",
      "[1 4 9]\n",
      "[3 3 3]\n"
     ]
    }
   ],
   "source": [
    "a = np.array([1, 2, 3])\n",
    "b = np.array([4, 5, 6])\n",
    "\n",
    "print(a + b)      # [5 7 9]\n",
    "print(a * b)      # [4 10 18]\n",
    "print(a ** 2)     # [1 4 9]\n",
    "print(b - a)      # [3 3 3]"
   ]
  },
  {
   "cell_type": "markdown",
   "id": "4a3e1812",
   "metadata": {},
   "source": [
    "🔹 11. Mathematical Operations on elements"
   ]
  },
  {
   "cell_type": "code",
   "execution_count": null,
   "id": "f76577fd",
   "metadata": {},
   "outputs": [
    {
     "name": "stdout",
     "output_type": "stream",
     "text": [
      "7\n"
     ]
    }
   ],
   "source": [
    "n = np.array([1,2,3,4,5])\n",
    "print(n[2]+n[3])        # 7 --> 3 + 4"
   ]
  },
  {
   "cell_type": "markdown",
   "id": "d41ce3bc",
   "metadata": {},
   "source": [
    "🔹 12. Array Slicing"
   ]
  },
  {
   "cell_type": "code",
   "execution_count": 29,
   "id": "cc846b17",
   "metadata": {},
   "outputs": [
    {
     "name": "stdout",
     "output_type": "stream",
     "text": [
      "[1 2 3]\n",
      "[1 3 5 7 9]\n",
      "[10  9  8  7  6  5  4  3  2  1]\n",
      "[10  8  6  4  2]\n",
      "[8 9]\n"
     ]
    }
   ],
   "source": [
    "nn = np.array([1,2,3,4,5,6,7,8,9,10])\n",
    "\n",
    "# Syntax - [Start: end: steps]\n",
    "\n",
    "print(nn[0:3])  # [1,2,3] --> Elements on index 0, 1 and 2 ** 3 not included\n",
    "print(nn[::2])  # Skip every 2nd element ** If not specified number automatically for start 0 taken for end size taken and for steps 0 taken\n",
    "print(nn[::-1]) # Print array in reverse order\n",
    "print(nn[::-2]) # Reverse order by skipping 2 digits.\n",
    "print(nn[-3:-1])"
   ]
  },
  {
   "cell_type": "code",
   "execution_count": 4,
   "id": "794050d1",
   "metadata": {},
   "outputs": [
    {
     "name": "stdout",
     "output_type": "stream",
     "text": [
      "Absolute value: [3 1 0 1 3]\n"
     ]
    }
   ],
   "source": [
    "#### Unary Operation: These operations are applied to each individual element in the array, without the need for multiple arrays (as in binary operations).\n",
    "\n",
    "\n",
    "# Example array with both positive and negative values\n",
    "arr22 = np.array([-3, -1, 0, 1, 3])\n",
    "\n",
    "# Applying a unary operation: absolute value\n",
    "result = np.absolute(arr22)\n",
    "print(\"Absolute value:\", result)"
   ]
  }
 ],
 "metadata": {
  "kernelspec": {
   "display_name": "Python 3",
   "language": "python",
   "name": "python3"
  },
  "language_info": {
   "codemirror_mode": {
    "name": "ipython",
    "version": 3
   },
   "file_extension": ".py",
   "mimetype": "text/x-python",
   "name": "python",
   "nbconvert_exporter": "python",
   "pygments_lexer": "ipython3",
   "version": "3.13.5"
  }
 },
 "nbformat": 4,
 "nbformat_minor": 5
}
