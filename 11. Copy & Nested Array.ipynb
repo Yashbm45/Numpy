{
 "cells": [
  {
   "cell_type": "markdown",
   "id": "abf5ac58",
   "metadata": {},
   "source": [
    "Flattening nested arrays in NumPy can be done using a few different methods, depending on how deeply nested the array is and its structure.\n",
    "\n",
    "🔁 If it's a proper NumPy array (regular shape):\n",
    "\n",
    "* ✅ Example 1: Using flatten()\n",
    "* ✅ Example 2: Using ravel() (returns a view when possible)\n",
    "* ✅ Example 3: Using reshape(-1)\n",
    "\n",
    "🧩 If it's an irregular (deeply nested or ragged) Python object array:\n",
    "NumPy's built-in flattening won't work directly — you'll need to use a recursive method.\n",
    "\n",
    "❌ Example 4: Deep nested list using np.array:\n",
    "arr = np.array([[1, 2], [3, [4, 5]]], dtype=object)\n",
    "\n",
    "\n",
    "\n",
    "🧠 Summary:\n",
    "Structure\t                    Method\t                                    Notes\n",
    "Regular 2D/3D NumPy array\t    .flatten(), .ravel(), .reshape(-1)\t        Efficient\n",
    "Irregular/Python object\t        Custom recursive flatten\t                Slower but flexible\n"
   ]
  },
  {
   "cell_type": "code",
   "execution_count": 1,
   "id": "89bb5857",
   "metadata": {},
   "outputs": [
    {
     "name": "stdout",
     "output_type": "stream",
     "text": [
      "[1 2 3 4]\n",
      "[1 2 3 4]\n",
      "[1 2 3 4]\n"
     ]
    }
   ],
   "source": [
    "import numpy as np\n",
    "# ✅ Example 1: Using flatten()\n",
    "arr = np.array([[1, 2], [3, 4]])\n",
    "flat = arr.flatten()\n",
    "print(flat)                 # Output: [1 2 3 4]\n",
    "\n",
    "\n",
    "# ✅ Example 2: Using ravel() (returns a view when possible)\n",
    "flat = arr.ravel()\n",
    "print(flat)                 # Output: [1 2 3 4]\n",
    "\n",
    "\n",
    "# ✅ Example 3: Using reshape(-1)\n",
    "flat = arr.reshape(-1)\n",
    "print(flat)                 # Output: [1 2 3 4]"
   ]
  },
  {
   "cell_type": "markdown",
   "id": "44a08fec",
   "metadata": {},
   "source": [
    "🧩 If it's an irregular (deeply nested or ragged) Python object array:\n",
    "* NumPy's built-in flattening won't work directly — you'll need to use a recursive method. "
   ]
  },
  {
   "cell_type": "code",
   "execution_count": 6,
   "id": "22d85efe",
   "metadata": {},
   "outputs": [
    {
     "name": "stdout",
     "output_type": "stream",
     "text": [
      "[1 2 3 4 5]\n"
     ]
    }
   ],
   "source": [
    "# ❌ Example 4: Deep nested list using np.array:\n",
    "arr = np.array([[1, 2], [3, [4, 5]]], dtype=object)\n",
    "\n",
    "\n",
    "# ✅ Custom flatten function (recursive)\n",
    "def flatten_nested(arr):\n",
    "    for item in arr:\n",
    "        if isinstance(item, (list, np.ndarray)):\n",
    "            yield from flatten_nested(item)\n",
    "        else:\n",
    "            yield item\n",
    "\n",
    "nested = np.array([[1, 2], [3, [4, 5]]], dtype=object)\n",
    "flat = np.array(list(flatten_nested(nested)))\n",
    "print(flat)  # Output: [1 2 3 4 5]"
   ]
  }
 ],
 "metadata": {
  "kernelspec": {
   "display_name": "Python 3",
   "language": "python",
   "name": "python3"
  },
  "language_info": {
   "codemirror_mode": {
    "name": "ipython",
    "version": 3
   },
   "file_extension": ".py",
   "mimetype": "text/x-python",
   "name": "python",
   "nbconvert_exporter": "python",
   "pygments_lexer": "ipython3",
   "version": "3.13.5"
  }
 },
 "nbformat": 4,
 "nbformat_minor": 5
}
